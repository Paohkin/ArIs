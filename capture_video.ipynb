{
 "cells": [
  {
   "cell_type": "code",
   "execution_count": 1,
   "metadata": {},
   "outputs": [],
   "source": [
    "### Requirements\n",
    "import cv2\n",
    "import json\n",
    "import os\n",
    "from pathlib import Path"
   ]
  },
  {
   "cell_type": "code",
   "execution_count": 2,
   "metadata": {},
   "outputs": [],
   "source": [
    "### Import video path\n",
    "with open('config.json') as config_file:\n",
    "    config = json.load(config_file)\n",
    "    video_path = Path(config['video_path'])\n",
    "    capture_path = Path(config['capture_path'])\n",
    "\n",
    "### Read file names in the video path\n",
    "file_names = [file.name for file in video_path.iterdir() if file.is_file()]"
   ]
  },
  {
   "cell_type": "code",
   "execution_count": 3,
   "metadata": {},
   "outputs": [],
   "source": [
    "### Set parameters\n",
    "start_time = {'main_2-1.mp4' : 1243, 'main_2-2.mp4' : 0,\n",
    "              'sub_maid.mp4' : 0, 'sub_original.mp4' : 0}  # No need of the front of main_2-1\n",
    "fps_limit = 2\n",
    "\n",
    "### Iter through 4 files\n",
    "for file_name in file_names:\n",
    "    print(f\"Currently Capturing {file_name}\")\n",
    "    \n",
    "    file = video_path / Path(file_name)\n",
    "    vidcap = cv2.VideoCapture(file)\n",
    "    cur_start = start_time[file_name]\n",
    "    fps = vidcap.get(cv2.CAP_PROP_FPS)\n",
    "    frame_interval = round(fps / fps_limit)  # e.g. 30fps/2fps = 15 frame interval\n",
    "    count = 0  # Count to check interval\n",
    "    \n",
    "    to_save = capture_path / Path(file_name)  # Output path\n",
    "    if not to_save.exists():\n",
    "        os.makedirs(to_save)\n",
    "        \n",
    "    total_frame = int(vidcap.get(cv2.CAP_PROP_FRAME_COUNT))  # Total frames\n",
    "    success, image = vidcap.read()\n",
    "    cur_time = vidcap.get(cv2.CAP_PROP_POS_MSEC) / 1000  # Convert into sec\n",
    "    \n",
    "    ### Read each frame from the file\n",
    "    while success:\n",
    "        if count%1000 == 0:\n",
    "            print(f\"Now Working... {count}/{total_frame}\")  # Print progress\n",
    "        \n",
    "        if cur_start <= cur_time and count%frame_interval == 0:  # Save if condition meets\n",
    "            cv2.imwrite(to_save / Path(f\"frame{count // frame_interval}.png\"), image)\n",
    "\n",
    "        success, image = vidcap.read()\n",
    "        cur_time = vidcap.get(cv2.CAP_PROP_POS_MSEC) / 1000  # Convert into sec\n",
    "        count += 1\n",
    "    \n",
    "    vidcap.release()"
   ]
  }
 ],
 "metadata": {
  "kernelspec": {
   "display_name": "venv",
   "language": "python",
   "name": "python3"
  },
  "language_info": {
   "codemirror_mode": {
    "name": "ipython",
    "version": 3
   },
   "file_extension": ".py",
   "mimetype": "text/x-python",
   "name": "python",
   "nbconvert_exporter": "python",
   "pygments_lexer": "ipython3",
   "version": "3.10.6"
  }
 },
 "nbformat": 4,
 "nbformat_minor": 2
}
