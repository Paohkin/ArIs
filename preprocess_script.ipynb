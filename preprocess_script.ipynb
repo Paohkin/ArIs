{
 "cells": [
  {
   "cell_type": "code",
   "execution_count": 1,
   "metadata": {},
   "outputs": [],
   "source": [
    "### Requirements\n",
    "import json\n",
    "import os\n",
    "import pandas as pd\n",
    "from pathlib import Path"
   ]
  },
  {
   "cell_type": "code",
   "execution_count": 13,
   "metadata": {},
   "outputs": [],
   "source": [
    "### Import path\n",
    "with open('config.json') as config_file:\n",
    "    config = json.load(config_file)\n",
    "    script_path = Path(config['script_path'])\n",
    "\n",
    "to_save = script_path / Path(f\"filtered\")  # Save into subfolder, 'filtered'\n",
    "if not to_save.exists():\n",
    "    os.makedirs(to_save)\n",
    "    \n",
    "files = [file.name for file in script_path.iterdir() if file.is_file()]"
   ]
  },
  {
   "cell_type": "code",
   "execution_count": null,
   "metadata": {},
   "outputs": [],
   "source": [
    "### Iter for 4 csv files\n",
    "for file in files:\n",
    "    print(f\"Currently Working at {file}\")\n",
    "    \n",
    "    cur_file = script_path / Path(file)\n",
    "    df = pd.read_csv(cur_file)\n",
    "    filtered_rows = []\n",
    "    prev = {'Name' : None, 'Script' : None}  # Save the script just before\n",
    "    queue = []  # Save continuous scripts of Aris\n",
    "    \n",
    "    ### Iter for each row\n",
    "    for _, row in df.iterrows():\n",
    "        if ('아리스' not in row['Name']):  # In case not a script from Aris\n",
    "            if (prev['Script'] and queue):  # There is both a previous character's script and Aris' script\n",
    "                new_row = {'Question' : prev['Script'], 'Answer' : queue}\n",
    "                filtered_rows.append(new_row)  # Hence, we will append the pair\n",
    "            queue = []  # Anyway, queue needs to be reset\n",
    "            prev['Name'], prev['Script'] = row['Name'], row['Script']\n",
    "        else:  # In case a script from Aris\n",
    "            queue.append(row['Script'])  # Append a script to the queue\n",
    "    \n",
    "    filtered_df = pd.DataFrame(filtered_rows, columns=['Question', 'Answer'])\n",
    "    filtered_df.to_csv(to_save / Path(f\"filtered_{file}\"), index=False)  # Save csv file"
   ]
  }
 ],
 "metadata": {
  "kernelspec": {
   "display_name": "venv",
   "language": "python",
   "name": "python3"
  },
  "language_info": {
   "codemirror_mode": {
    "name": "ipython",
    "version": 3
   },
   "file_extension": ".py",
   "mimetype": "text/x-python",
   "name": "python",
   "nbconvert_exporter": "python",
   "pygments_lexer": "ipython3",
   "version": "3.10.6"
  }
 },
 "nbformat": 4,
 "nbformat_minor": 2
}
